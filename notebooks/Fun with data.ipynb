{
 "cells": [
  {
   "cell_type": "code",
   "execution_count": null,
   "metadata": {},
   "outputs": [],
   "source": [
    "import os\n",
    "import fileinput\n",
    "\n",
    "import numpy as np\n",
    "\n",
    "import datetime\n",
    "\n",
    "import matplotlib.mlab as mlab\n",
    "import matplotlib.pyplot as plt\n",
    "from matplotlib.dates import (YEARLY, DateFormatter,\n",
    "                              rrulewrapper, RRuleLocator, drange)\n",
    "import matplotlib.cm as cm\n",
    "import matplotlib.ticker as plticker\n",
    "import matplotlib.dates as mdates\n",
    "\n",
    "from IPython.core.display import display, HTML\n",
    "display(HTML(\"<style>.container { width:100% !important; }</style>\"))"
   ]
  },
  {
   "cell_type": "code",
   "execution_count": null,
   "metadata": {},
   "outputs": [],
   "source": [
    "class cdat:\n",
    "    def __init__(self):\n",
    "        self.name = ''\n",
    "        self.idx = []\n",
    "        self.dte = []\n",
    "        self.con = []\n",
    "        self.rec = []\n",
    "        self.ded = []\n",
    "        self.gf = []\n",
    "    def gfactor(self):\n",
    "        if len(self.gf) == 0:\n",
    "            self.gf = np.zeros_like(self.idx, dtype=float)\n",
    "            for i in range(1,len(self.idx)):\n",
    "                if(self.con[i-1] > 0):\n",
    "                    self.gf[i] = float(self.con[i])/float(self.con[i-1])\n",
    "        return self.gf"
   ]
  },
  {
   "cell_type": "code",
   "execution_count": null,
   "metadata": {},
   "outputs": [],
   "source": [
    "# read in some data\n",
    "import csv\n",
    "\n",
    "def readdata_wrd(path, dest):\n",
    "    with open(path) as csv_file:\n",
    "        csv_reader = csv.reader(csv_file, delimiter=',')\n",
    "        line_count = 0\n",
    "        for row in csv_reader:\n",
    "            if line_count == 0:\n",
    "    #             print(f'Column names are {\", \".join(row)}')\n",
    "                line_count += 1\n",
    "            else:\n",
    "    #             print(row)\n",
    "                dest.idx.append(line_count)\n",
    "                line_count += 1\n",
    "                r = row[0].split('-')\n",
    "                d = datetime.date(year=int(r[0]), month=int(r[1]),day=int(r[2]))\n",
    "                dest.dte.append(d)\n",
    "                dest.con.append(int(row[1]))\n",
    "                dest.ded.append(int(row[3]))\n",
    "        print(f'Processed {line_count} lines.')\n",
    "    dest.name = 'World'\n",
    "    dest.idx=np.array(dest.idx)\n",
    "    dest.dte=np.array(dest.dte)\n",
    "    dest.con=np.array(dest.con)\n",
    "    dest.ded=np.array(dest.ded)"
   ]
  },
  {
   "cell_type": "code",
   "execution_count": null,
   "metadata": {},
   "outputs": [],
   "source": [
    "# read in some data\n",
    "import csv\n",
    "\n",
    "def readdata_cnt(path, dest, cntname):\n",
    "    with open(path) as csv_file:\n",
    "        csv_reader = csv.reader(csv_file, delimiter=',')\n",
    "        line_count = 0\n",
    "        for row in csv_reader:\n",
    "            if line_count == 0:\n",
    "    #             print(f'Column names are {\", \".join(row)}')\n",
    "                line_count += 1\n",
    "            elif row[1] == cntname:\n",
    "    #             print(row)\n",
    "                dest.idx.append(line_count)\n",
    "                line_count += 1\n",
    "                r = row[0].split('-')\n",
    "                d = datetime.date(year=int(r[0]), month=int(r[1]),day=int(r[2]))\n",
    "                dest.dte.append(d)\n",
    "                dest.con.append(int(row[2]))\n",
    "                dest.ded.append(int(row[4]))\n",
    "#                 print(d, row[2])\n",
    "            else:\n",
    "                pass\n",
    "        print(f'Processed {line_count} lines.')\n",
    "    dest.name=cntname\n",
    "    dest.idx=np.array(dest.idx)\n",
    "    dest.dte=np.array(dest.dte)\n",
    "    dest.con=np.array(dest.con)\n",
    "    dest.ded=np.array(dest.ded)"
   ]
  },
  {
   "cell_type": "code",
   "execution_count": null,
   "metadata": {},
   "outputs": [],
   "source": [
    "wrd = cdat()\n",
    "readdata_wrd('../data/worldwide-aggregated.csv', wrd)"
   ]
  },
  {
   "cell_type": "code",
   "execution_count": null,
   "metadata": {},
   "outputs": [],
   "source": [
    "pl = cdat()\n",
    "readdata_cnt('../data/countries-aggregated.csv', pl, 'Poland')\n",
    "it = cdat()\n",
    "readdata_cnt('../data/countries-aggregated.csv', it, 'Italy')\n",
    "sp = cdat()\n",
    "readdata_cnt('../data/countries-aggregated.csv', sp, 'Spain')\n"
   ]
  },
  {
   "cell_type": "code",
   "execution_count": null,
   "metadata": {},
   "outputs": [],
   "source": [
    "%matplotlib inline\n",
    "font = {'family' : 'Comic Sans MS',\n",
    "        'weight' : 'bold',\n",
    "        'size'   : 28}\n",
    "plt.rc('font', **font)\n",
    "\n",
    "fig, ax = plt.subplots(figsize=(15,10))\n",
    "\n",
    "ax.plot(wrd.idx, wrd.con, label=wrd.name)\n",
    "ax.plot(pl.idx, pl.con, label=pl.name)\n",
    "ax.plot(it.idx, it.con, label=it.name)\n",
    "ax.plot(sp.idx, sp.con, label=sp.name)\n",
    "\n",
    "plt.title('Total cases')\n",
    "plt.yscale('log')\n",
    "plt.ylim(1,1e6)\n",
    "plt.legend()\n",
    "\n",
    "base = 5\n",
    "loc = plticker.MultipleLocator(base=base) # this locator puts ticks at regular intervals\n",
    "ax.xaxis.set_major_locator(loc)\n",
    "ax.xaxis.set_major_formatter(mdates.DateFormatter('%Y-%M-%D'))\n",
    "ax.set_xticklabels(wrd.dte[::base], rotation=45)\n",
    "\n",
    "plt.grid()"
   ]
  },
  {
   "cell_type": "code",
   "execution_count": null,
   "metadata": {},
   "outputs": [],
   "source": [
    "fig, ax = plt.subplots(figsize=(15,10))\n",
    "\n",
    "plt.plot(wrd.idx, wrd.gfactor(), label=wrd.name)\n",
    "plt.plot(pl.idx, pl.gfactor(), label=pl.name)\n",
    "plt.plot(it.idx, it.gfactor(), label=it.name)\n",
    "plt.plot(sp.idx, sp.gfactor(), label=sp.name)\n",
    "\n",
    "plt.title('Growth')\n",
    "ax.set_xticklabels(wrd.dte, rotation=20)\n",
    "plt.legend()\n",
    "\n",
    "base = 5\n",
    "loc = plticker.MultipleLocator(base=base) # this locator puts ticks at regular intervals\n",
    "ax.xaxis.set_major_locator(loc)\n",
    "ax.xaxis.set_major_formatter(mdates.DateFormatter('%Y-%M-%D'))\n",
    "ax.set_xticklabels(wrd.dte[::base], rotation=45)\n",
    "\n",
    "plt.grid()"
   ]
  },
  {
   "cell_type": "code",
   "execution_count": null,
   "metadata": {},
   "outputs": [],
   "source": [
    "for d in [wrd, pl, it, sp]:\n",
    "    av = np.mean([x for x in d.gf if x])\n",
    "    print(d.name, av)"
   ]
  },
  {
   "cell_type": "code",
   "execution_count": null,
   "metadata": {},
   "outputs": [],
   "source": []
  }
 ],
 "metadata": {
  "kernelspec": {
   "display_name": "Python 3",
   "language": "python",
   "name": "python3"
  },
  "language_info": {
   "codemirror_mode": {
    "name": "ipython",
    "version": 3
   },
   "file_extension": ".py",
   "mimetype": "text/x-python",
   "name": "python",
   "nbconvert_exporter": "python",
   "pygments_lexer": "ipython3",
   "version": "3.6.3"
  }
 },
 "nbformat": 4,
 "nbformat_minor": 2
}
